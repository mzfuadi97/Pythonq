{
  "nbformat": 4,
  "nbformat_minor": 0,
  "metadata": {
    "colab": {
      "name": "Data Manipulation with Pandas-Beginner.ipynb",
      "provenance": []
    },
    "kernelspec": {
      "name": "python3",
      "display_name": "Python 3"
    },
    "language_info": {
      "name": "python"
    }
  },
  "cells": [
    {
      "cell_type": "markdown",
      "metadata": {
        "id": "2LyizfkKwZzs"
      },
      "source": [
        "## APPEND"
      ]
    },
    {
      "cell_type": "code",
      "metadata": {
        "colab": {
          "base_uri": "https://localhost:8080/"
        },
        "id": "Zi53Yq6gwdaM",
        "outputId": "b6996241-7da1-4888-d9f4-97859dc149ef"
      },
      "source": [
        "import pandas as pd\n",
        "# Buat series of int (s1) dan series of string (s2)\n",
        "s1 = pd.Series([1,2,3,4,5,6])\n",
        "s2 = pd.Series([\"a\",\"b\",\"c\",\"d\",\"e\",\"f\"])\n",
        "# Terapkan method append\n",
        "s2_append_s1 = s2.append(s1)\n",
        "print(\"Series - append:\\n\", s2_append_s1)\n",
        "# Buat dataframe df1 dan df2\n",
        "df1 = pd.DataFrame({'a':[1,2],\n",
        "\t\t   'b':[3,4]})\n",
        "df2 = pd.DataFrame({'b':[1,2],\n",
        "\t\t   'a':[3,4]})\n",
        "# Terapkan method append\n",
        "df2_append_df1 = df2.append(df1)\n",
        "print(\"Dataframe - append:\\n\", df2_append_df1)"
      ],
      "execution_count": null,
      "outputs": [
        {
          "output_type": "stream",
          "text": [
            "Series - append:\n",
            " 0    a\n",
            "1    b\n",
            "2    c\n",
            "3    d\n",
            "4    e\n",
            "5    f\n",
            "0    1\n",
            "1    2\n",
            "2    3\n",
            "3    4\n",
            "4    5\n",
            "5    6\n",
            "dtype: object\n",
            "Dataframe - append:\n",
            "    b  a\n",
            "0  1  3\n",
            "1  2  4\n",
            "0  3  1\n",
            "1  4  2\n"
          ],
          "name": "stdout"
        }
      ]
    },
    {
      "cell_type": "code",
      "metadata": {
        "id": "8l6B0n_hweCf"
      },
      "source": [
        ""
      ],
      "execution_count": null,
      "outputs": []
    }
  ]
}